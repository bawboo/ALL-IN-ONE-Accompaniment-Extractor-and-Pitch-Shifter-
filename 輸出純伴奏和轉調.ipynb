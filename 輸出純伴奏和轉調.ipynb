{
  "nbformat": 4,
  "nbformat_minor": 0,
  "metadata": {
    "colab": {
      "provenance": [],
      "gpuType": "T4"
    },
    "kernelspec": {
      "name": "python3",
      "display_name": "Python 3"
    },
    "language_info": {
      "name": "python"
    },
    "accelerator": "GPU"
  },
  "cells": [
    {
      "cell_type": "markdown",
      "source": [
        "放心之前言: 這是google的線上服務, 你上傳的資料不會跑到我這邊, 關掉之後就會刪掉了, 產生的檔案和程式需要使用的模型也只會載在這個暫時的雲端空間, 不會載到你的電腦, 除非你主動下載, 請放心使用."
      ],
      "metadata": {
        "id": "-gkM48lAgqaS"
      }
    },
    {
      "cell_type": "code",
      "source": [
        "# demucs LICENSE https://github.com/facebookresearch/demucs/blob/main/LICENSE\n",
        "# soundfile LICENSE https://github.com/bastibe/python-soundfile/blob/master/LICENSE\n",
        "# librosa LICENSE https://github.com/librosa/librosa/blob/main/LICENSE.md"
      ],
      "metadata": {
        "id": "fVEVICCaqbGy"
      },
      "execution_count": null,
      "outputs": []
    },
    {
      "cell_type": "markdown",
      "source": [
        "2024/1/28更新: 可以用表單直接填資料和拉拉桿, 便於不懂程式運作的人操作    \n",
        "11/7更新: 可以輸出wav檔, 請在下方輸入格操作\n",
        "\n",
        "# 請操作完0.之後 將下面那格按1.x說明依序設定後, 接著按照2.3.執行\n",
        "### 0. 上方選單 -> 執行階段 -> 變更執行階段類型 -> 硬體加速器 改成勾選 T4 GPU(已經是的話就不用改) -> 儲存 ( 也可以不改, 但程式就會慢到你想殺我QQ)\n",
        "--------------------------------------------------------------------------------\n",
        "#### 1.1 **n_pitch_shifts**: 後面改成你要移調幾個半音,如果不用移就改成0, 否則可以是正負值的數字, 舉例, -2 就是往下調一個全音    \n",
        "\n",
        "#### 1.2 **song_path**: 將你的檔案上傳到左側的資料欄位 **(左邊資料夾的圖案點下去, 把檔案直接拖移上去, 或空白處按右鍵上傳)** , song_path改成你的檔名 例如: \"鄧福如叉子咧.wav\" \"求佛.mp4\"  \"雨愛.mp3\" **檔名請事先改成簡單的,不要有空格或多餘的符號** (若不知道你的副檔名, 請看左側資料夾欄位, 會顯示完整檔名加副檔名)\n",
        "\n",
        "#### 1.3 **output_file_path**可以不用改, 你可以等輸出完成下載下來再改, 或直接改成 \"你要的檔名.mp3\" 也可以\n",
        "--------------------------------------------------------------------------------\n",
        "### 2.**確認** 左邊資料夾欄位你的音檔或影片檔已經 **上傳完成** 後 **(檔案出現在資料夾區上面不代表上傳完成, 請看資料夾區最下方有沒有你的檔案名並且右邊有圓圈進度條在跑,有的話就代表還在上傳,請等他跑完)**  在 **上面選單** 的 **執行階段按** **全部執行**, 等程式跑完你就可以得到你的音檔啦. (**通常wav檔要上傳個幾分鐘,要等一下**)\n",
        "---\n",
        "### 3.程式確定跑完後, 將檔案列的mp3檔下載(沒有出現的話在檔案列空白處按右鍵,重新整理) , 檔案名是output.mp3或你改的檔名  等待下載完成就可以把網頁關了\n",
        "---\n",
        "### 4.台大附近ubereats你們都叫甚麼來吃? 請推薦給我"
      ],
      "metadata": {
        "id": "jIYk15dPnK8c"
      }
    },
    {
      "cell_type": "markdown",
      "source": [
        "1.x 在這邊↓↓↓ 檔名和轉調設定區    \n"
      ],
      "metadata": {
        "id": "xiH_SFUcXdwn"
      }
    },
    {
      "cell_type": "code",
      "source": [
        "# configs\n",
        "\"\"\"下面這兩個值請務必設定正確\"\"\"\n",
        "\n",
        "#@markdown － 移調，以一個半音為單位，也可以往下調　例如 n_pitch_shifts = -2 就是往下移一個全音, 不需要就保持0\n",
        "n_pitch_shifts = 4 #@param {type:\"slider\", min:-12, max:12, step:1}\n",
        "\n",
        "#@markdown － 原始影片檔或音檔檔名, 可以是mp4 mp3 wav檔等等 , 檔名請修改成盡量只用文字和底線,不要有其他符號\n",
        "song_path = \"一輪花.wav\"  #@param {type:\"string\"}\n",
        "\n",
        "\n",
        "\"\"\" 下面這個可以不改 \"\"\"\n",
        "#@markdown － output檔案的名字, 可以不用改, 或改成你想要的檔名\n",
        "output_file_path = \"output.mp3\" #@param {type:\"string\"}\n",
        "\n",
        "\n",
        "\n",
        "\n",
        "\n",
        "\"\"\"如果你要輸出.wav檔請照著修改\"\"\"\n",
        "#@markdown － 如果要輸出wav檔請勾選，　否則就是ｍｐ３檔\n",
        "output_wav = True #@param {type:\"boolean\"}"
      ],
      "metadata": {
        "id": "WCwMs05xjh80",
        "cellView": "form"
      },
      "execution_count": null,
      "outputs": []
    },
    {
      "cell_type": "code",
      "source": [
        "!pip install demucs soundfile librosa"
      ],
      "metadata": {
        "colab": {
          "base_uri": "https://localhost:8080/",
          "height": 1000
        },
        "id": "3KmZBVcyi1YO",
        "outputId": "dfbb4d84-d2e7-49f7-87d4-c474338688f7"
      },
      "execution_count": null,
      "outputs": [
        {
          "output_type": "stream",
          "name": "stdout",
          "text": [
            "Collecting demucs\n",
            "  Downloading demucs-4.0.1.tar.gz (1.2 MB)\n",
            "\u001b[2K     \u001b[90m━━━━━━━━━━━━━━━━━━━━━━━━━━━━━━━━━━━━━━━━\u001b[0m \u001b[32m1.2/1.2 MB\u001b[0m \u001b[31m9.5 MB/s\u001b[0m eta \u001b[36m0:00:00\u001b[0m\n",
            "\u001b[?25h  Preparing metadata (setup.py) ... \u001b[?25l\u001b[?25hdone\n",
            "Requirement already satisfied: soundfile in /usr/local/lib/python3.10/dist-packages (0.12.1)\n",
            "Requirement already satisfied: librosa in /usr/local/lib/python3.10/dist-packages (0.10.2)\n",
            "Collecting yt-dlp\n",
            "  Downloading yt_dlp-2024.4.9-py3-none-any.whl (3.1 MB)\n",
            "\u001b[2K     \u001b[90m━━━━━━━━━━━━━━━━━━━━━━━━━━━━━━━━━━━━━━━━\u001b[0m \u001b[32m3.1/3.1 MB\u001b[0m \u001b[31m51.6 MB/s\u001b[0m eta \u001b[36m0:00:00\u001b[0m\n",
            "\u001b[?25hCollecting dora-search (from demucs)\n",
            "  Downloading dora_search-0.1.12.tar.gz (87 kB)\n",
            "\u001b[2K     \u001b[90m━━━━━━━━━━━━━━━━━━━━━━━━━━━━━━━━━━━━━━━━\u001b[0m \u001b[32m87.1/87.1 kB\u001b[0m \u001b[31m8.8 MB/s\u001b[0m eta \u001b[36m0:00:00\u001b[0m\n",
            "\u001b[?25h  Installing build dependencies ... \u001b[?25l\u001b[?25hdone\n",
            "  Getting requirements to build wheel ... \u001b[?25l\u001b[?25hdone\n",
            "  Preparing metadata (pyproject.toml) ... \u001b[?25l\u001b[?25hdone\n",
            "Collecting einops (from demucs)\n",
            "  Downloading einops-0.8.0-py3-none-any.whl (43 kB)\n",
            "\u001b[2K     \u001b[90m━━━━━━━━━━━━━━━━━━━━━━━━━━━━━━━━━━━━━━━━\u001b[0m \u001b[32m43.2/43.2 kB\u001b[0m \u001b[31m6.1 MB/s\u001b[0m eta \u001b[36m0:00:00\u001b[0m\n",
            "\u001b[?25hCollecting julius>=0.2.3 (from demucs)\n",
            "  Downloading julius-0.2.7.tar.gz (59 kB)\n",
            "\u001b[2K     \u001b[90m━━━━━━━━━━━━━━━━━━━━━━━━━━━━━━━━━━━━━━━━\u001b[0m \u001b[32m59.6/59.6 kB\u001b[0m \u001b[31m9.6 MB/s\u001b[0m eta \u001b[36m0:00:00\u001b[0m\n",
            "\u001b[?25h  Preparing metadata (setup.py) ... \u001b[?25l\u001b[?25hdone\n",
            "Collecting lameenc>=1.2 (from demucs)\n",
            "  Downloading lameenc-1.7.0-cp310-cp310-manylinux_2_17_x86_64.manylinux2014_x86_64.manylinux_2_28_x86_64.whl (239 kB)\n",
            "\u001b[2K     \u001b[90m━━━━━━━━━━━━━━━━━━━━━━━━━━━━━━━━━━━━━━━━\u001b[0m \u001b[32m239.8/239.8 kB\u001b[0m \u001b[31m31.6 MB/s\u001b[0m eta \u001b[36m0:00:00\u001b[0m\n",
            "\u001b[?25hCollecting openunmix (from demucs)\n",
            "  Downloading openunmix-1.3.0-py3-none-any.whl (40 kB)\n",
            "\u001b[2K     \u001b[90m━━━━━━━━━━━━━━━━━━━━━━━━━━━━━━━━━━━━━━━━\u001b[0m \u001b[32m40.0/40.0 kB\u001b[0m \u001b[31m5.6 MB/s\u001b[0m eta \u001b[36m0:00:00\u001b[0m\n",
            "\u001b[?25hRequirement already satisfied: pyyaml in /usr/local/lib/python3.10/dist-packages (from demucs) (6.0.1)\n",
            "Requirement already satisfied: torch>=1.8.1 in /usr/local/lib/python3.10/dist-packages (from demucs) (2.2.1+cu121)\n",
            "Requirement already satisfied: torchaudio>=0.8 in /usr/local/lib/python3.10/dist-packages (from demucs) (2.2.1+cu121)\n",
            "Requirement already satisfied: tqdm in /usr/local/lib/python3.10/dist-packages (from demucs) (4.66.4)\n",
            "Requirement already satisfied: cffi>=1.0 in /usr/local/lib/python3.10/dist-packages (from soundfile) (1.16.0)\n",
            "Requirement already satisfied: audioread>=2.1.9 in /usr/local/lib/python3.10/dist-packages (from librosa) (3.0.1)\n",
            "Requirement already satisfied: numpy!=1.22.0,!=1.22.1,!=1.22.2,>=1.20.3 in /usr/local/lib/python3.10/dist-packages (from librosa) (1.25.2)\n",
            "Requirement already satisfied: scipy>=1.2.0 in /usr/local/lib/python3.10/dist-packages (from librosa) (1.11.4)\n",
            "Requirement already satisfied: scikit-learn>=0.20.0 in /usr/local/lib/python3.10/dist-packages (from librosa) (1.2.2)\n",
            "Requirement already satisfied: joblib>=0.14 in /usr/local/lib/python3.10/dist-packages (from librosa) (1.4.2)\n",
            "Requirement already satisfied: decorator>=4.3.0 in /usr/local/lib/python3.10/dist-packages (from librosa) (4.4.2)\n",
            "Requirement already satisfied: numba>=0.51.0 in /usr/local/lib/python3.10/dist-packages (from librosa) (0.58.1)\n",
            "Requirement already satisfied: pooch>=1.1 in /usr/local/lib/python3.10/dist-packages (from librosa) (1.8.1)\n",
            "Requirement already satisfied: soxr>=0.3.2 in /usr/local/lib/python3.10/dist-packages (from librosa) (0.3.7)\n",
            "Requirement already satisfied: typing-extensions>=4.1.1 in /usr/local/lib/python3.10/dist-packages (from librosa) (4.11.0)\n",
            "Requirement already satisfied: lazy-loader>=0.1 in /usr/local/lib/python3.10/dist-packages (from librosa) (0.4)\n",
            "Requirement already satisfied: msgpack>=1.0 in /usr/local/lib/python3.10/dist-packages (from librosa) (1.0.8)\n",
            "Collecting brotli (from yt-dlp)\n",
            "  Downloading Brotli-1.1.0-cp310-cp310-manylinux_2_5_x86_64.manylinux1_x86_64.manylinux_2_12_x86_64.manylinux2010_x86_64.whl (3.0 MB)\n",
            "\u001b[2K     \u001b[90m━━━━━━━━━━━━━━━━━━━━━━━━━━━━━━━━━━━━━━━━\u001b[0m \u001b[32m3.0/3.0 MB\u001b[0m \u001b[31m91.0 MB/s\u001b[0m eta \u001b[36m0:00:00\u001b[0m\n",
            "\u001b[?25hRequirement already satisfied: certifi in /usr/local/lib/python3.10/dist-packages (from yt-dlp) (2024.2.2)\n",
            "Collecting mutagen (from yt-dlp)\n",
            "  Downloading mutagen-1.47.0-py3-none-any.whl (194 kB)\n",
            "\u001b[2K     \u001b[90m━━━━━━━━━━━━━━━━━━━━━━━━━━━━━━━━━━━━━━━━\u001b[0m \u001b[32m194.4/194.4 kB\u001b[0m \u001b[31m27.6 MB/s\u001b[0m eta \u001b[36m0:00:00\u001b[0m\n",
            "\u001b[?25hCollecting pycryptodomex (from yt-dlp)\n",
            "  Downloading pycryptodomex-3.20.0-cp35-abi3-manylinux_2_17_x86_64.manylinux2014_x86_64.whl (2.1 MB)\n",
            "\u001b[2K     \u001b[90m━━━━━━━━━━━━━━━━━━━━━━━━━━━━━━━━━━━━━━━━\u001b[0m \u001b[32m2.1/2.1 MB\u001b[0m \u001b[31m50.7 MB/s\u001b[0m eta \u001b[36m0:00:00\u001b[0m\n",
            "\u001b[?25hRequirement already satisfied: requests<3,>=2.31.0 in /usr/local/lib/python3.10/dist-packages (from yt-dlp) (2.31.0)\n",
            "Requirement already satisfied: urllib3<3,>=1.26.17 in /usr/local/lib/python3.10/dist-packages (from yt-dlp) (2.0.7)\n",
            "Collecting websockets>=12.0 (from yt-dlp)\n",
            "  Downloading websockets-12.0-cp310-cp310-manylinux_2_5_x86_64.manylinux1_x86_64.manylinux_2_17_x86_64.manylinux2014_x86_64.whl (130 kB)\n",
            "\u001b[2K     \u001b[90m━━━━━━━━━━━━━━━━━━━━━━━━━━━━━━━━━━━━━━━━\u001b[0m \u001b[32m130.2/130.2 kB\u001b[0m \u001b[31m17.8 MB/s\u001b[0m eta \u001b[36m0:00:00\u001b[0m\n",
            "\u001b[?25hRequirement already satisfied: pycparser in /usr/local/lib/python3.10/dist-packages (from cffi>=1.0->soundfile) (2.22)\n",
            "Requirement already satisfied: packaging in /usr/local/lib/python3.10/dist-packages (from lazy-loader>=0.1->librosa) (24.0)\n",
            "Requirement already satisfied: llvmlite<0.42,>=0.41.0dev0 in /usr/local/lib/python3.10/dist-packages (from numba>=0.51.0->librosa) (0.41.1)\n",
            "Requirement already satisfied: platformdirs>=2.5.0 in /usr/local/lib/python3.10/dist-packages (from pooch>=1.1->librosa) (4.2.1)\n",
            "Requirement already satisfied: charset-normalizer<4,>=2 in /usr/local/lib/python3.10/dist-packages (from requests<3,>=2.31.0->yt-dlp) (3.3.2)\n",
            "Requirement already satisfied: idna<4,>=2.5 in /usr/local/lib/python3.10/dist-packages (from requests<3,>=2.31.0->yt-dlp) (3.7)\n",
            "Requirement already satisfied: threadpoolctl>=2.0.0 in /usr/local/lib/python3.10/dist-packages (from scikit-learn>=0.20.0->librosa) (3.5.0)\n",
            "Requirement already satisfied: filelock in /usr/local/lib/python3.10/dist-packages (from torch>=1.8.1->demucs) (3.14.0)\n",
            "Requirement already satisfied: sympy in /usr/local/lib/python3.10/dist-packages (from torch>=1.8.1->demucs) (1.12)\n",
            "Requirement already satisfied: networkx in /usr/local/lib/python3.10/dist-packages (from torch>=1.8.1->demucs) (3.3)\n",
            "Requirement already satisfied: jinja2 in /usr/local/lib/python3.10/dist-packages (from torch>=1.8.1->demucs) (3.1.4)\n",
            "Requirement already satisfied: fsspec in /usr/local/lib/python3.10/dist-packages (from torch>=1.8.1->demucs) (2023.6.0)\n",
            "Collecting nvidia-cuda-nvrtc-cu12==12.1.105 (from torch>=1.8.1->demucs)\n",
            "  Using cached nvidia_cuda_nvrtc_cu12-12.1.105-py3-none-manylinux1_x86_64.whl (23.7 MB)\n",
            "Collecting nvidia-cuda-runtime-cu12==12.1.105 (from torch>=1.8.1->demucs)\n",
            "  Using cached nvidia_cuda_runtime_cu12-12.1.105-py3-none-manylinux1_x86_64.whl (823 kB)\n",
            "Collecting nvidia-cuda-cupti-cu12==12.1.105 (from torch>=1.8.1->demucs)\n",
            "  Using cached nvidia_cuda_cupti_cu12-12.1.105-py3-none-manylinux1_x86_64.whl (14.1 MB)\n",
            "Collecting nvidia-cudnn-cu12==8.9.2.26 (from torch>=1.8.1->demucs)\n",
            "  Using cached nvidia_cudnn_cu12-8.9.2.26-py3-none-manylinux1_x86_64.whl (731.7 MB)\n",
            "Collecting nvidia-cublas-cu12==12.1.3.1 (from torch>=1.8.1->demucs)\n",
            "  Using cached nvidia_cublas_cu12-12.1.3.1-py3-none-manylinux1_x86_64.whl (410.6 MB)\n",
            "Collecting nvidia-cufft-cu12==11.0.2.54 (from torch>=1.8.1->demucs)\n",
            "  Using cached nvidia_cufft_cu12-11.0.2.54-py3-none-manylinux1_x86_64.whl (121.6 MB)\n",
            "Collecting nvidia-curand-cu12==10.3.2.106 (from torch>=1.8.1->demucs)\n",
            "  Using cached nvidia_curand_cu12-10.3.2.106-py3-none-manylinux1_x86_64.whl (56.5 MB)\n",
            "Collecting nvidia-cusolver-cu12==11.4.5.107 (from torch>=1.8.1->demucs)\n",
            "  Using cached nvidia_cusolver_cu12-11.4.5.107-py3-none-manylinux1_x86_64.whl (124.2 MB)\n",
            "Collecting nvidia-cusparse-cu12==12.1.0.106 (from torch>=1.8.1->demucs)\n",
            "  Using cached nvidia_cusparse_cu12-12.1.0.106-py3-none-manylinux1_x86_64.whl (196.0 MB)\n",
            "Collecting nvidia-nccl-cu12==2.19.3 (from torch>=1.8.1->demucs)\n",
            "  Using cached nvidia_nccl_cu12-2.19.3-py3-none-manylinux1_x86_64.whl (166.0 MB)\n",
            "Collecting nvidia-nvtx-cu12==12.1.105 (from torch>=1.8.1->demucs)\n",
            "  Using cached nvidia_nvtx_cu12-12.1.105-py3-none-manylinux1_x86_64.whl (99 kB)\n",
            "Requirement already satisfied: triton==2.2.0 in /usr/local/lib/python3.10/dist-packages (from torch>=1.8.1->demucs) (2.2.0)\n",
            "Collecting nvidia-nvjitlink-cu12 (from nvidia-cusolver-cu12==11.4.5.107->torch>=1.8.1->demucs)\n",
            "  Using cached nvidia_nvjitlink_cu12-12.4.127-py3-none-manylinux2014_x86_64.whl (21.1 MB)\n",
            "Collecting omegaconf (from dora-search->demucs)\n",
            "  Downloading omegaconf-2.3.0-py3-none-any.whl (79 kB)\n",
            "\u001b[2K     \u001b[90m━━━━━━━━━━━━━━━━━━━━━━━━━━━━━━━━━━━━━━━━\u001b[0m \u001b[32m79.5/79.5 kB\u001b[0m \u001b[31m11.5 MB/s\u001b[0m eta \u001b[36m0:00:00\u001b[0m\n",
            "\u001b[?25hCollecting retrying (from dora-search->demucs)\n",
            "  Downloading retrying-1.3.4-py3-none-any.whl (11 kB)\n",
            "Collecting submitit (from dora-search->demucs)\n",
            "  Downloading submitit-1.5.1-py3-none-any.whl (74 kB)\n",
            "\u001b[2K     \u001b[90m━━━━━━━━━━━━━━━━━━━━━━━━━━━━━━━━━━━━━━━━\u001b[0m \u001b[32m74.7/74.7 kB\u001b[0m \u001b[31m12.7 MB/s\u001b[0m eta \u001b[36m0:00:00\u001b[0m\n",
            "\u001b[?25hCollecting treetable (from dora-search->demucs)\n",
            "  Downloading treetable-0.2.5.tar.gz (10 kB)\n",
            "  Preparing metadata (setup.py) ... \u001b[?25l\u001b[?25hdone\n",
            "Requirement already satisfied: MarkupSafe>=2.0 in /usr/local/lib/python3.10/dist-packages (from jinja2->torch>=1.8.1->demucs) (2.1.5)\n",
            "Collecting antlr4-python3-runtime==4.9.* (from omegaconf->dora-search->demucs)\n",
            "  Downloading antlr4-python3-runtime-4.9.3.tar.gz (117 kB)\n",
            "\u001b[2K     \u001b[90m━━━━━━━━━━━━━━━━━━━━━━━━━━━━━━━━━━━━━━━━\u001b[0m \u001b[32m117.0/117.0 kB\u001b[0m \u001b[31m17.1 MB/s\u001b[0m eta \u001b[36m0:00:00\u001b[0m\n",
            "\u001b[?25h  Preparing metadata (setup.py) ... \u001b[?25l\u001b[?25hdone\n",
            "Requirement already satisfied: six>=1.7.0 in /usr/local/lib/python3.10/dist-packages (from retrying->dora-search->demucs) (1.16.0)\n",
            "Requirement already satisfied: cloudpickle>=1.2.1 in /usr/local/lib/python3.10/dist-packages (from submitit->dora-search->demucs) (2.2.1)\n",
            "Requirement already satisfied: mpmath>=0.19 in /usr/local/lib/python3.10/dist-packages (from sympy->torch>=1.8.1->demucs) (1.3.0)\n",
            "Building wheels for collected packages: demucs, julius, dora-search, antlr4-python3-runtime, treetable\n",
            "  Building wheel for demucs (setup.py) ... \u001b[?25l\u001b[?25hdone\n",
            "  Created wheel for demucs: filename=demucs-4.0.1-py3-none-any.whl size=78391 sha256=e54d36c6992df366177c981ba74314414739498045b48327935da81fa3eb1ad1\n",
            "  Stored in directory: /root/.cache/pip/wheels/2a/65/a1/6cc0e525a84375af3b09823b3326b0ece53c4e68302c054548\n",
            "  Building wheel for julius (setup.py) ... \u001b[?25l\u001b[?25hdone\n",
            "  Created wheel for julius: filename=julius-0.2.7-py3-none-any.whl size=21870 sha256=026637a94cbc3a7a33b39e830167b52dbabec0a098221987e23c782db6e15f31\n",
            "  Stored in directory: /root/.cache/pip/wheels/b9/b2/05/f883527ffcb7f2ead5438a2c23439aa0c881eaa9a4c80256f4\n",
            "  Building wheel for dora-search (pyproject.toml) ... \u001b[?25l\u001b[?25hdone\n",
            "  Created wheel for dora-search: filename=dora_search-0.1.12-py3-none-any.whl size=75093 sha256=d6332099182fefa7aa33b25c032c31dcf8e0b1179e25de95a4e9b111634a9037\n",
            "  Stored in directory: /root/.cache/pip/wheels/b1/c2/c0/bea5cc405497284d584b958f293ef32c23bad42ae5e44d973c\n",
            "  Building wheel for antlr4-python3-runtime (setup.py) ... \u001b[?25l\u001b[?25hdone\n",
            "  Created wheel for antlr4-python3-runtime: filename=antlr4_python3_runtime-4.9.3-py3-none-any.whl size=144554 sha256=f050f2f461e0fb7b3d24a9fa9b8f32d87c195f6c611249f8b5b3261819513523\n",
            "  Stored in directory: /root/.cache/pip/wheels/12/93/dd/1f6a127edc45659556564c5730f6d4e300888f4bca2d4c5a88\n",
            "  Building wheel for treetable (setup.py) ... \u001b[?25l\u001b[?25hdone\n",
            "  Created wheel for treetable: filename=treetable-0.2.5-py3-none-any.whl size=7333 sha256=d895e5a9b41e368b68e23c1dcbba1a1ff29c4db60bd8bf21358e3d3452139a97\n",
            "  Stored in directory: /root/.cache/pip/wheels/72/55/0e/91c3655bdb162446f8a7cd477579397544454a63ae7c599c0c\n",
            "Successfully built demucs julius dora-search antlr4-python3-runtime treetable\n",
            "Installing collected packages: lameenc, brotli, antlr4-python3-runtime, websockets, treetable, submitit, retrying, pycryptodomex, omegaconf, nvidia-nvtx-cu12, nvidia-nvjitlink-cu12, nvidia-nccl-cu12, nvidia-curand-cu12, nvidia-cufft-cu12, nvidia-cuda-runtime-cu12, nvidia-cuda-nvrtc-cu12, nvidia-cuda-cupti-cu12, nvidia-cublas-cu12, mutagen, einops, yt-dlp, nvidia-cusparse-cu12, nvidia-cudnn-cu12, nvidia-cusolver-cu12, julius, dora-search, openunmix, demucs\n",
            "Successfully installed antlr4-python3-runtime-4.9.3 brotli-1.1.0 demucs-4.0.1 dora-search-0.1.12 einops-0.8.0 julius-0.2.7 lameenc-1.7.0 mutagen-1.47.0 nvidia-cublas-cu12-12.1.3.1 nvidia-cuda-cupti-cu12-12.1.105 nvidia-cuda-nvrtc-cu12-12.1.105 nvidia-cuda-runtime-cu12-12.1.105 nvidia-cudnn-cu12-8.9.2.26 nvidia-cufft-cu12-11.0.2.54 nvidia-curand-cu12-10.3.2.106 nvidia-cusolver-cu12-11.4.5.107 nvidia-cusparse-cu12-12.1.0.106 nvidia-nccl-cu12-2.19.3 nvidia-nvjitlink-cu12-12.4.127 nvidia-nvtx-cu12-12.1.105 omegaconf-2.3.0 openunmix-1.3.0 pycryptodomex-3.20.0 retrying-1.3.4 submitit-1.5.1 treetable-0.2.5 websockets-12.0 yt-dlp-2024.4.9\n"
          ]
        },
        {
          "output_type": "display_data",
          "data": {
            "application/vnd.colab-display-data+json": {
              "pip_warning": {
                "packages": [
                  "pydevd_plugins"
                ]
              },
              "id": "d4158f376c8c4e9eaada1c7c08b36533"
            }
          },
          "metadata": {}
        }
      ]
    },
    {
      "cell_type": "code",
      "execution_count": null,
      "metadata": {
        "id": "stiNf9J2iz0H"
      },
      "outputs": [],
      "source": [
        "import demucs.separate\n",
        "from numpy import transpose\n",
        "from soundfile import read, write\n",
        "from librosa.effects import pitch_shift\n",
        "\n",
        "import os"
      ]
    },
    {
      "cell_type": "markdown",
      "source": [
        "# 下面這格的圈圈沒有在轉就是跑完啦, 如果失敗會在下面顯示失敗訊息, 如果你的檔案沒問題就是檔名有問題, 請將檔案改成簡單沒符號的檔名 例如 雨天.mp3"
      ],
      "metadata": {
        "id": "oFjW-dCZ77cM"
      }
    },
    {
      "cell_type": "code",
      "source": [
        "sr = 44100\n",
        "\n",
        "sub_file_name = \".\"+song_path.split(\".\")[-1]\n",
        "song_name= \"\".join(song_path.split(sub_file_name)[:-1])\n",
        "\n",
        "print(song_name)\n",
        "\n",
        "print(f\"開始處理你的歌{song_name}.....\\n\\n\\n\\n\")\n",
        "\n",
        "if output_wav: output_file_path = output_file_path.replace(\".mp3\", \".wav\")\n",
        "\n",
        "assert os.path.exists(song_path), \"檔名有問題, 或檔案還沒上傳完成, 請改成簡單的檔名.\"\n",
        "\n",
        "args = [song_path,]\n",
        "if output_wav == False:\n",
        "  args += [\"--mp3\",]\n",
        "args += [\"-n\", \"htdemucs_ft\", \"-o\", \"./\", \"--two-stems\", \"vocals\", \"--segment\" , \"4\"]\n",
        "\n",
        "# args = [song_path, \"--mp3\", \"-n\", \"htdemucs_ft\", \"-o\", \"./\", \"--two-stems\", \"vocals\", \"--segment\" , \"4\"]\n",
        "demucs.separate.main(args)\n",
        "\n",
        "try:\n",
        "  separated_accompany_path = f\"./htdemucs_ft/{song_name}/no_vocals.wav\" if output_wav else  f\"./htdemucs_ft/{song_name}/no_vocals.mp3\"\n",
        "  audio, _ = read(f\"./htdemucs_ft/{song_name}/no_vocals.wav\" if output_wav else f\"./htdemucs_ft/{song_name}/no_vocals.mp3\")\n",
        "  success = True\n",
        "except:\n",
        "  assert False, \"失敗惹,你的檔名可能有一些空格或.之類的,請改成簡單的檔名來跑,(除了副檔名前面的.之外請不要有其他的.).txt\"\n",
        "  success = False\n",
        "  with open(\"失敗惹,你的檔名可能有一些空格或.之類的,請改成簡單的檔名來跑,(除了副檔名前面的.之外請不要有其他的.).txt\", \"w\") as f:\n",
        "    f.write(\"\")\n",
        "    print(\"\\n\\n\\n失敗惹,你的檔名可能有一些空格或符號,請改成簡單的檔名來跑\\n\\n\\n\\n\\n\")\n",
        "\n",
        "\n",
        "if success == True:\n",
        "  if n_pitch_shifts != 0:\n",
        "    print(\"\\n 轉調中.....\")\n",
        "    audio_t = transpose(audio)\n",
        "    audio_t_shift = pitch_shift(audio_t, sr=sr, n_steps=n_pitch_shifts)\n",
        "    audio_shift = transpose(audio_t_shift)\n",
        "    write(output_file_path, audio_shift, sr)\n",
        "  else:\n",
        "    write(output_file_path, audio, sr)\n",
        "  print(f\"\\n\\n\\n處理成功! 請下載{output_file_path}. 若沒看到檔案,請在檔案區按右鍵並且重新整理.\\n\\n\\n\\n\")"
      ],
      "metadata": {
        "id": "q67aSOmskaZ6",
        "colab": {
          "base_uri": "https://localhost:8080/"
        },
        "outputId": "59019009-3685-4457-8d84-d858cdbc7568"
      },
      "execution_count": null,
      "outputs": [
        {
          "metadata": {
            "tags": null
          },
          "name": "stderr",
          "output_type": "stream",
          "text": [
            "Downloading: \"https://dl.fbaipublicfiles.com/demucs/hybrid_transformer/f7e0c4bc-ba3fe64a.th\" to /root/.cache/torch/hub/checkpoints/f7e0c4bc-ba3fe64a.th\n"
          ]
        },
        {
          "metadata": {
            "tags": null
          },
          "name": "stdout",
          "output_type": "stream",
          "text": [
            "一輪花\n",
            "開始處理你的歌一輪花.....\n",
            "\n",
            "\n",
            "\n",
            "\n"
          ]
        },
        {
          "metadata": {
            "tags": null
          },
          "name": "stderr",
          "output_type": "stream",
          "text": [
            "100%|██████████| 80.2M/80.2M [00:00<00:00, 160MB/s]\n",
            "Downloading: \"https://dl.fbaipublicfiles.com/demucs/hybrid_transformer/d12395a8-e57c48e6.th\" to /root/.cache/torch/hub/checkpoints/d12395a8-e57c48e6.th\n",
            "100%|██████████| 80.2M/80.2M [00:00<00:00, 139MB/s]\n",
            "Downloading: \"https://dl.fbaipublicfiles.com/demucs/hybrid_transformer/92cfc3b6-ef3bcb9c.th\" to /root/.cache/torch/hub/checkpoints/92cfc3b6-ef3bcb9c.th\n",
            "100%|██████████| 80.2M/80.2M [00:00<00:00, 118MB/s]\n",
            "Downloading: \"https://dl.fbaipublicfiles.com/demucs/hybrid_transformer/04573f0d-f3cf25b2.th\" to /root/.cache/torch/hub/checkpoints/04573f0d-f3cf25b2.th\n",
            "100%|██████████| 80.2M/80.2M [00:01<00:00, 61.5MB/s]\n"
          ]
        },
        {
          "metadata": {
            "tags": null
          },
          "name": "stdout",
          "output_type": "stream",
          "text": [
            "Selected model is a bag of 4 models. You will see that many progress bars per track.\n",
            "Separated tracks will be stored in /content/htdemucs_ft\n",
            "Separating track 一輪花.wav\n"
          ]
        },
        {
          "output_type": "stream",
          "name": "stderr",
          "text": [
            "100%|████████████████████████████████████████████████████████████████████████| 231.0/231.0 [00:20<00:00, 11.16seconds/s]\n",
            "100%|████████████████████████████████████████████████████████████████████████| 234.0/234.0 [00:17<00:00, 13.32seconds/s]\n",
            "100%|████████████████████████████████████████████████████████████████████████| 234.0/234.0 [00:17<00:00, 13.23seconds/s]\n",
            "100%|████████████████████████████████████████████████████████████████████████| 234.0/234.0 [00:17<00:00, 13.07seconds/s]\n"
          ]
        },
        {
          "output_type": "stream",
          "name": "stdout",
          "text": [
            "\n",
            " 轉調中.....\n",
            "\n",
            "\n",
            "\n",
            "處理成功! 請下載output.wav. 若沒看到檔案,請在檔案區按右鍵並且重新整理.\n",
            "\n",
            "\n",
            "\n",
            "\n"
          ]
        }
      ]
    },
    {
      "cell_type": "code",
      "source": [],
      "metadata": {
        "id": "pYCIA5v9j9F5"
      },
      "execution_count": null,
      "outputs": []
    }
  ]
}